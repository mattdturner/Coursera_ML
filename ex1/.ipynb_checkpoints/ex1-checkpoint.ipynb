{
 "cells": [
  {
   "cell_type": "markdown",
   "metadata": {},
   "source": [
    "I have previously done the Coursera Machine Learning exercises in Matlab.  I thought, now that I am starting to get away from Matlab and use Python more, I should re-do the exercises in Python.  This is exercise 1."
   ]
  },
  {
   "cell_type": "code",
   "execution_count": 447,
   "metadata": {
    "collapsed": true
   },
   "outputs": [],
   "source": [
    "%matplotlib inline\n",
    "import matplotlib.pyplot as plt\n",
    "import numpy as np\n",
    "import scipy"
   ]
  },
  {
   "cell_type": "markdown",
   "metadata": {},
   "source": [
    "Part 1:  Create an eye matrix.  While this is incredibly simple, I want to make sure that I go through each step and provide a resulting document that a novice can follow long and understand what is happening."
   ]
  },
  {
   "cell_type": "code",
   "execution_count": 448,
   "metadata": {
    "collapsed": false
   },
   "outputs": [
    {
     "name": "stdout",
     "output_type": "stream",
     "text": [
      "[[ 1.  0.  0.  0.  0.]\n",
      " [ 0.  1.  0.  0.  0.]\n",
      " [ 0.  0.  1.  0.  0.]\n",
      " [ 0.  0.  0.  1.  0.]\n",
      " [ 0.  0.  0.  0.  1.]]\n"
     ]
    }
   ],
   "source": [
    "A = np.identity(5)\n",
    "print A"
   ]
  },
  {
   "cell_type": "markdown",
   "metadata": {},
   "source": [
    "Part 2: Read in the data from 'ex1data1.txt' and plot it as a scatter plot"
   ]
  },
  {
   "cell_type": "code",
   "execution_count": 449,
   "metadata": {
    "collapsed": false
   },
   "outputs": [],
   "source": [
    "# Use the numpy genfromtext function to read the data\n",
    "data = np.genfromtxt('/Users/matthewturner/Desktop/Coursera_machine_learning/'+\n",
    "                     'machine-learning-ex1/ex1/ex1data1.txt', delimiter=',')"
   ]
  },
  {
   "cell_type": "code",
   "execution_count": 450,
   "metadata": {
    "collapsed": false
   },
   "outputs": [],
   "source": [
    "# Pull out the first column (theta0) into the variable X, and the 2nd column (theta1)\n",
    "# into the variable y.  These variable names are consistent with the example.\n",
    "X,y = data[:,0],data[:,1]\n",
    "\n",
    "# Set m = the length of y (i.e., the number of observations).\n",
    "m = len(y)\n",
    "y = y.reshape(m,1)"
   ]
  },
  {
   "cell_type": "code",
   "execution_count": 451,
   "metadata": {
    "collapsed": false
   },
   "outputs": [
    {
     "data": {
      "text/plain": [
       "<matplotlib.collections.PathCollection at 0x1091f5d50>"
      ]
     },
     "execution_count": 451,
     "metadata": {},
     "output_type": "execute_result"
    },
    {
     "data": {
      "image/png": "[encoded data removed]",
      "text/plain": [
       "<matplotlib.figure.Figure at 0x109d98590>"
      ]
     },
     "metadata": {},
     "output_type": "display_data"
    }
   ],
   "source": [
    "plt.scatter(X,y)"
   ]
  },
  {
   "cell_type": "markdown",
   "metadata": {},
   "source": [
    "Part 3: Gradient Descent"
   ]
  },
  {
   "cell_type": "code",
   "execution_count": 452,
   "metadata": {
    "collapsed": false
   },
   "outputs": [],
   "source": [
    "# Add a column of ones to the data\n",
    "X = np.c_[np.ones((m,1)),X]\n",
    "theta = np.zeros((2,1))\n",
    "\n",
    "iterations = 1500\n",
    "alpha = 0.01"
   ]
  },
  {
   "cell_type": "code",
   "execution_count": 453,
   "metadata": {
    "collapsed": false
   },
   "outputs": [
    {
     "name": "stdout",
     "output_type": "stream",
     "text": [
      "[ 32.07273388]\n"
     ]
    }
   ],
   "source": [
    "def costFuncIter(X,y,theta):\n",
    "    cum_sum = 0\n",
    "    for i in range(m):\n",
    "        h = np.dot(X[i],theta) - y[i]\n",
    "        cum_sum += 1.0/(2*m) * h * h\n",
    "    return cum_sum\n",
    "        \n",
    "J = costFuncIter(X,y,theta)\n",
    "print J"
   ]
  },
  {
   "cell_type": "code",
   "execution_count": 454,
   "metadata": {
    "collapsed": false
   },
   "outputs": [
    {
     "name": "stdout",
     "output_type": "stream",
     "text": [
      "32.0727338775\n"
     ]
    }
   ],
   "source": [
    "# Compute and display the initial cost function\n",
    "def costFunc(X,y,theta):\n",
    "    h = np.dot(X,theta)-y\n",
    "    h2 = np.dot(h.T,h)\n",
    "    J = 1./(2*m) * h2\n",
    "    return J[0,0]\n",
    "\n",
    "J = costFunc(X,y,theta)\n",
    "print J"
   ]
  },
  {
   "cell_type": "code",
   "execution_count": 455,
   "metadata": {
    "collapsed": false
   },
   "outputs": [
    {
     "name": "stdout",
     "output_type": "stream",
     "text": [
      "[[-3.63029144]\n",
      " [ 1.16636235]]\n"
     ]
    }
   ],
   "source": [
    "# Run the Gradient Descent Algorithm\n",
    "def gradientDescent(X,y,theta,alpha,iterations):\n",
    "    J_history = np.zeros(iterations)\n",
    "    \n",
    "    for iter in range(iterations):\n",
    "        h = np.dot(X,theta) - y\n",
    "        h_X = np.dot(X.T,h)\n",
    "        \n",
    "        temp = theta\n",
    "        \n",
    "        temp -= alpha / m * h_X\n",
    "        \n",
    "        theta = temp\n",
    "        \n",
    "        J_history[iter] = costFunc(X,y,theta)\n",
    "        \n",
    "    return theta,J_history\n",
    "    \n",
    "theta, J_history = gradientDescent(X,y,theta,alpha,iterations)\n",
    "print theta"
   ]
  },
  {
   "cell_type": "code",
   "execution_count": 456,
   "metadata": {
    "collapsed": false
   },
   "outputs": [
    {
     "data": {
      "text/plain": [
       "[<matplotlib.lines.Line2D at 0x109fcfd90>]"
      ]
     },
     "execution_count": 456,
     "metadata": {},
     "output_type": "execute_result"
    },
    {
     "data": {
      "image/png": "[encoded data removed]",
      "text/plain": [
       "<matplotlib.figure.Figure at 0x10926dd90>"
      ]
     },
     "metadata": {},
     "output_type": "display_data"
    }
   ],
   "source": [
    "# Plot the timeseries of cost function\n",
    "plt.plot(J_history)"
   ]
  },
  {
   "cell_type": "code",
   "execution_count": 457,
   "metadata": {
    "collapsed": false
   },
   "outputs": [
    {
     "data": {
      "text/plain": [
       "[<matplotlib.lines.Line2D at 0x10a108810>]"
      ]
     },
     "execution_count": 457,
     "metadata": {},
     "output_type": "execute_result"
    },
    {
     "data": {
      "image/png": "[encoded data removed]",
      "text/plain": [
       "<matplotlib.figure.Figure at 0x10a108850>"
      ]
     },
     "metadata": {},
     "output_type": "display_data"
    }
   ],
   "source": [
    "# Plot the observations and the best fit line that we just solved for\n",
    "plt.scatter(X[:,1],y)\n",
    "plt.plot(X[:,1],np.dot(X,theta))"
   ]
  },
  {
   "cell_type": "code",
   "execution_count": 458,
   "metadata": {
    "collapsed": false
   },
   "outputs": [
    {
     "name": "stdout",
     "output_type": "stream",
     "text": [
      "[ 0.45197679]\n",
      "[ 4.53424501]\n"
     ]
    }
   ],
   "source": [
    "# Make the 2 predictions\n",
    "predict1 = np.array([1,3.5]).dot(theta)\n",
    "predict2 = np.array([1,7]).dot(theta)\n",
    "print predict1\n",
    "print predict2"
   ]
  },
  {
   "cell_type": "markdown",
   "metadata": {},
   "source": [
    "Part 3: Now we do the multi variable exercise"
   ]
  },
  {
   "cell_type": "code",
   "execution_count": 490,
   "metadata": {
    "collapsed": true
   },
   "outputs": [],
   "source": [
    "# Use the numpy genfromtext function to read the data\n",
    "data2 = np.genfromtxt('/Users/matthewturner/Desktop/Coursera_machine_learning/'+\n",
    "                     'machine-learning-ex1/ex1/ex1data2.txt', delimiter=',')"
   ]
  },
  {
   "cell_type": "code",
   "execution_count": 491,
   "metadata": {
    "collapsed": false
   },
   "outputs": [],
   "source": [
    "# Pull out the first column (theta0) into the variable X, and the 2nd column (theta1)\n",
    "# into the variable y.  These variable names are consistent with the example.\n",
    "X2,y2 = data2[:,0:2],data2[:,2]\n",
    "\n",
    "# Set m = the length of y (i.e., the number of observations).\n",
    "m2 = len(y2)\n",
    "y2 = y2.reshape(m2,1)"
   ]
  },
  {
   "cell_type": "markdown",
   "metadata": {},
   "source": [
    "Part 3.1:  Feature Normalization"
   ]
  },
  {
   "cell_type": "code",
   "execution_count": 492,
   "metadata": {
    "collapsed": false
   },
   "outputs": [],
   "source": [
    "def featureNormalize(X):\n",
    "    mu = np.mean(X,axis=0)\n",
    "    sigma = np.std(X,axis=0)\n",
    "    X_norm = ( X - mu ) / sigma\n",
    "    return X_norm, mu, sigma\n",
    "    \n",
    "X_norm, mu, sigma = featureNormalize(X2)"
   ]
  },
  {
   "cell_type": "code",
   "execution_count": 516,
   "metadata": {
    "collapsed": true
   },
   "outputs": [],
   "source": [
    "# Add the column of ones to X2\n",
    "X2 = np.c_[np.ones((m2,1)),X_norm]"
   ]
  },
  {
   "cell_type": "markdown",
   "metadata": {},
   "source": [
    "Part 3.2: Gradient Descent"
   ]
  },
  {
   "cell_type": "code",
   "execution_count": 517,
   "metadata": {
    "collapsed": false
   },
   "outputs": [
    {
     "name": "stdout",
     "output_type": "stream",
     "text": [
      "[[ 340412.65957447]\n",
      " [ 109447.79558639]\n",
      " [  -6578.3539709 ]]\n"
     ]
    }
   ],
   "source": [
    "def gradientDescentMulti(X2,y2,theta2,alpha2,iterations2):\n",
    "    J_history2 = np.zeros(iterations2)\n",
    "    \n",
    "    max1 = np.shape(X2)[1]\n",
    "    alpha_over_m = alpha2 / m2\n",
    "    for iter in range(iterations2):\n",
    "        temp2 = theta2\n",
    "        h2 = np.dot(X2,temp2.reshape(max1,1))-y2\n",
    "        h3 = np.dot(X2.T,h2)\n",
    "        temp2 = temp2.reshape(max1,1) - alpha_over_m * h3\n",
    "        theta2 = temp2\n",
    "        \n",
    "        J_history2[iter] = costFunc(X2,y2,theta2)\n",
    "        \n",
    "    return theta2,J_history2\n",
    "    \n",
    "theta2 = np.zeros(np.shape(X2)[1])\n",
    "alpha2 = 0.1\n",
    "iterations2 = 400\n",
    "    \n",
    "theta2, J_history2 = gradientDescentMulti(X2,y2,theta2,alpha2,iterations2)\n",
    "print theta2"
   ]
  },
  {
   "cell_type": "code",
   "execution_count": 518,
   "metadata": {
    "collapsed": false
   },
   "outputs": [
    {
     "data": {
      "text/plain": [
       "[<matplotlib.lines.Line2D at 0x10a591fd0>]"
      ]
     },
     "execution_count": 518,
     "metadata": {},
     "output_type": "execute_result"
    },
    {
     "data": {
      "image/png": "[encoded data removed]",
      "text/plain": [
       "<matplotlib.figure.Figure at 0x10a4911d0>"
      ]
     },
     "metadata": {},
     "output_type": "display_data"
    }
   ],
   "source": [
    "plt.plot(J_history2)"
   ]
  },
  {
   "cell_type": "markdown",
   "metadata": {},
   "source": [
    "Part 3.3: Normal Equation"
   ]
  },
  {
   "cell_type": "code",
   "execution_count": 519,
   "metadata": {
    "collapsed": false
   },
   "outputs": [
    {
     "name": "stdout",
     "output_type": "stream",
     "text": [
      "[[ 340412.65957447]\n",
      " [ 109447.79646964]\n",
      " [  -6578.35485416]]\n"
     ]
    }
   ],
   "source": [
    "def normalEqn(X,y):\n",
    "    pinv_X = np.linalg.pinv(np.dot(X.T,X))\n",
    "    X_y = np.dot(X.T,y)\n",
    "    theta = np.dot(pinv_X,X_y)\n",
    "    return np.linalg.inv(X.T.dot( X )).dot( X.T ).dot( y )\n",
    "    \n",
    "theta3 = normalEqn(X2,y2)\n",
    "print theta3"
   ]
  },
  {
   "cell_type": "code",
   "execution_count": 527,
   "metadata": {
    "collapsed": false
   },
   "outputs": [
    {
     "name": "stdout",
     "output_type": "stream",
     "text": [
      "[ 293081.46452917]\n"
     ]
    }
   ],
   "source": [
    "# Predict proce of 1650 sq foot house with 3 bedrooms\n",
    "x_predict = [1650,3]\n",
    "normalized_predict = (x_predict - mu)/sigma\n",
    "normalized_predict = np.insert(normalized_predict,0,1)\n",
    "predict3 = np.dot(normalized_predict,theta2)\n",
    "\n",
    "print predict3"
   ]
  }
 ],
 "metadata": {
  "kernelspec": {
   "display_name": "Python 2",
   "language": "python",
   "name": "python2"
  },
  "language_info": {
   "codemirror_mode": {
    "name": "ipython",
    "version": 2
   },
   "file_extension": ".py",
   "mimetype": "text/x-python",
   "name": "python",
   "nbconvert_exporter": "python",
   "pygments_lexer": "ipython2",
   "version": "2.7.9"
  }
 },
 "nbformat": 4,
 "nbformat_minor": 0
}
